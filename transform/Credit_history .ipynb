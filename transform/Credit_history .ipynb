{
 "cells": [
  {
   "cell_type": "markdown",
   "id": "47917020",
   "metadata": {},
   "source": [
    "# Кредитная история."
   ]
  },
  {
   "cell_type": "markdown",
   "id": "ecbad306",
   "metadata": {},
   "source": [
    "---"
   ]
  },
  {
   "cell_type": "code",
   "execution_count": 767,
   "id": "5bfd2f29",
   "metadata": {},
   "outputs": [],
   "source": [
    "import pandas as pd"
   ]
  },
  {
   "cell_type": "code",
   "execution_count": 768,
   "id": "0b3c5e99",
   "metadata": {},
   "outputs": [],
   "source": [
    "df = pd.read_csv('credit_history.csv',parse_dates=['status date','date of loan issue'],dayfirst=True)"
   ]
  },
  {
   "cell_type": "code",
   "execution_count": 769,
   "id": "6c539d55",
   "metadata": {},
   "outputs": [
    {
     "data": {
      "text/html": [
       "<div>\n",
       "<style scoped>\n",
       "    .dataframe tbody tr th:only-of-type {\n",
       "        vertical-align: middle;\n",
       "    }\n",
       "\n",
       "    .dataframe tbody tr th {\n",
       "        vertical-align: top;\n",
       "    }\n",
       "\n",
       "    .dataframe thead th {\n",
       "        text-align: right;\n",
       "    }\n",
       "</style>\n",
       "<table border=\"1\" class=\"dataframe\">\n",
       "  <thead>\n",
       "    <tr style=\"text-align: right;\">\n",
       "      <th></th>\n",
       "      <th>type of credit institution</th>\n",
       "      <th>сredit institution name</th>\n",
       "      <th>date of loan issue</th>\n",
       "      <th>loan amount(RUB)</th>\n",
       "      <th>loan repayment amount(RUB)</th>\n",
       "      <th>loan amount owed(RUB)</th>\n",
       "      <th>loan status</th>\n",
       "      <th>status date</th>\n",
       "    </tr>\n",
       "  </thead>\n",
       "  <tbody>\n",
       "    <tr>\n",
       "      <th>0</th>\n",
       "      <td>Микрокредит</td>\n",
       "      <td>ООО МКК \"\"СОЮЗ 5\"\"\"</td>\n",
       "      <td>2021-06-15</td>\n",
       "      <td>12440</td>\n",
       "      <td>27296</td>\n",
       "      <td>0</td>\n",
       "      <td>Счет закрыт</td>\n",
       "      <td>2022-03-10</td>\n",
       "    </tr>\n",
       "    <tr>\n",
       "      <th>1</th>\n",
       "      <td>Микрокредит</td>\n",
       "      <td>ООО МКК \"\"Микроклад\"\"\"</td>\n",
       "      <td>2021-06-01</td>\n",
       "      <td>4000</td>\n",
       "      <td>0</td>\n",
       "      <td>10000</td>\n",
       "      <td>Просрочен</td>\n",
       "      <td>2022-10-02</td>\n",
       "    </tr>\n",
       "    <tr>\n",
       "      <th>2</th>\n",
       "      <td>Потребит.кредит</td>\n",
       "      <td>ООО МФК \"\"ЧЕСТНОЕ СЛОВО\"\"\"</td>\n",
       "      <td>2021-05-22</td>\n",
       "      <td>35000</td>\n",
       "      <td>5715</td>\n",
       "      <td>82001</td>\n",
       "      <td>Просрочен</td>\n",
       "      <td>2022-05-18</td>\n",
       "    </tr>\n",
       "  </tbody>\n",
       "</table>\n",
       "</div>"
      ],
      "text/plain": [
       "  type of credit institution     сredit institution name date of loan issue  \\\n",
       "0                Микрокредит         ООО МКК \"\"СОЮЗ 5\"\"\"         2021-06-15   \n",
       "1                Микрокредит      ООО МКК \"\"Микроклад\"\"\"         2021-06-01   \n",
       "2            Потребит.кредит  ООО МФК \"\"ЧЕСТНОЕ СЛОВО\"\"\"         2021-05-22   \n",
       "\n",
       "   loan amount(RUB)  loan repayment amount(RUB)  loan amount owed(RUB)  \\\n",
       "0             12440                       27296                      0   \n",
       "1              4000                           0                  10000   \n",
       "2             35000                        5715                  82001   \n",
       "\n",
       "   loan status status date  \n",
       "0  Счет закрыт  2022-03-10  \n",
       "1    Просрочен  2022-10-02  \n",
       "2    Просрочен  2022-05-18  "
      ]
     },
     "execution_count": 769,
     "metadata": {},
     "output_type": "execute_result"
    }
   ],
   "source": [
    "df.head(3)"
   ]
  },
  {
   "cell_type": "markdown",
   "id": "0301a978",
   "metadata": {},
   "source": [
    "---"
   ]
  },
  {
   "cell_type": "markdown",
   "id": "59f585b2",
   "metadata": {},
   "source": [
    "## Обработка, очистка."
   ]
  },
  {
   "cell_type": "code",
   "execution_count": 770,
   "id": "09568fd8",
   "metadata": {},
   "outputs": [],
   "source": [
    "# присваеваем имена атрибутам, как в задании.\n",
    "df.columns = ['тип кредитной организации', 'название организации', 'дата выдачи кредита', 'сумма выдачи',\n",
    "            'сумма погашенного', 'сумма задолженности', 'статус кредита', 'дата статуса']\n",
    "df.columns = df.columns.str.replace(' ','_').str.lower()"
   ]
  },
  {
   "cell_type": "code",
   "execution_count": 771,
   "id": "1433c90f",
   "metadata": {},
   "outputs": [],
   "source": [
    "# приводим к нижнему регистру атрибуты  'тип_кредитной_организации' и 'статус_кредита'\n",
    "df['тип_кредитной_организации'] = df['тип_кредитной_организации'].str.lower()"
   ]
  },
  {
   "cell_type": "code",
   "execution_count": 772,
   "id": "eb4730f7",
   "metadata": {},
   "outputs": [],
   "source": [
    "df['статус_кредита'] = df['статус_кредита'].str.lower()"
   ]
  },
  {
   "cell_type": "code",
   "execution_count": 773,
   "id": "41f6b98e",
   "metadata": {},
   "outputs": [
    {
     "data": {
      "text/plain": [
       "ООО МФК \"\"Займер\"\"\"                   46\n",
       "ООО МФК \"\"Мани Мен\"\"\"                 35\n",
       "ООО МКК \"\"СМСФИНАНС\"\"\"                22\n",
       "ООО «МИКРОКРЕДИТНАЯ                   18\n",
       "ООО МКК \"\"Микроклад\"\"\"                11\n",
       "ООО МКК ТУРБОЗАЙМ                     11\n",
       "ООО «МФК «ЮПИТЕР 6»                   11\n",
       "ООО «Киберлэндинг»                    10\n",
       "ООО МФК \"\"ЧЕСТНОЕ СЛОВО\"\"\"            10\n",
       "МФК \"\"Лайм-Займ\"\" (ООО)\"               9\n",
       "ООО МКК \"\"ДЗП-Центр\"\"\"                 7\n",
       "ООО МКК \"\"Срочноденьги\"\"\"              4\n",
       "ООО МКК \"\"Джет Мани Микрофинанс\"\"\"     4\n",
       "ООО МФК \"\"Экофинанс\"\"\"                 3\n",
       "ООО МКК ЗАЙМ-ЭКСПРЕСС                  3\n",
       "ООО МКК \"\"СОЮЗ 5\"\"\"                    3\n",
       "АО КБ \"\"Пойдём!\"\"\"                     2\n",
       "ООО МКК \"\"ФИНТЕРРА\"\"\"                  2\n",
       "ООО «Финанби»                          2\n",
       "ООО \"\"ПрофиМани\"\"\"                     2\n",
       "ООО МФК \"\"ЗАЙМ ОНЛАЙН\"\"\"               2\n",
       "ООО МКК \"\"Смсфинанс\"\"\"                 2\n",
       "ООО \"\"ФЖК\"\"\"                           1\n",
       "ООО \"\"Займиго МФК\"\"\"                   1\n",
       "ООО «Микрокредитная компания           1\n",
       "ООО \"\"Драйв Клик Банк\"\"\"               1\n",
       "ПАО \"\"Совкомбанк\"\"\"                    1\n",
       "ООО \"\"Юнона\"\"\"                         1\n",
       "ООО «Профессиональные Финансы»         1\n",
       "Name: название_организации, dtype: int64"
      ]
     },
     "execution_count": 773,
     "metadata": {},
     "output_type": "execute_result"
    }
   ],
   "source": [
    "# присутсвует избыточность в столбце 'название_организации'\n",
    "df['название_организации'].value_counts()"
   ]
  },
  {
   "cell_type": "code",
   "execution_count": 774,
   "id": "db10a83c",
   "metadata": {},
   "outputs": [],
   "source": [
    "# срезами выделяем название организаций\n",
    "def clean_column(column):\n",
    "    if '\"\"' in column:\n",
    "         return column[column.find('\"\"',1)+2:column.rfind('\"\"')]\n",
    "    elif '«' in column:\n",
    "         return column[column.find('«',1)+1:]  \n",
    "    elif '\"' or '«' not in column:\n",
    "        return  column[column.rfind(' ')+1:]\n",
    "    return column       "
   ]
  },
  {
   "cell_type": "code",
   "execution_count": 775,
   "id": "7f2ca106",
   "metadata": {},
   "outputs": [],
   "source": [
    "# присваиваем новые значения , применяем методы str для окончательной очистки и приводим к нижнему регистру\n",
    "df['название_организации'] = df['название_организации'].apply(clean_column).str.replace('«', '').str.replace('»','').str.replace('\"','').str.lower().str.replace('мфк', '').str.lstrip()"
   ]
  },
  {
   "cell_type": "code",
   "execution_count": 776,
   "id": "58d14288",
   "metadata": {},
   "outputs": [],
   "source": [
    "# переименовываем строку 'потребит.кредит' в 'потребительский кредит'\n",
    "df['тип_кредитной_организации'] = df['тип_кредитной_организации'].str.replace('потребит.кредит', 'потребительский кредит', regex=True)"
   ]
  },
  {
   "cell_type": "code",
   "execution_count": 777,
   "id": "3990f65c",
   "metadata": {},
   "outputs": [
    {
     "data": {
      "text/plain": [
       "0"
      ]
     },
     "execution_count": 777,
     "metadata": {},
     "output_type": "execute_result"
    }
   ],
   "source": [
    "# дубликаты отсутствуют\n",
    "df.duplicated().sum()"
   ]
  },
  {
   "cell_type": "code",
   "execution_count": 778,
   "id": "2bfb99f8",
   "metadata": {},
   "outputs": [
    {
     "data": {
      "text/plain": [
       "тип_кредитной_организации    0\n",
       "название_организации         0\n",
       "дата_выдачи_кредита          0\n",
       "сумма_выдачи                 0\n",
       "сумма_погашенного            0\n",
       "сумма_задолженности          0\n",
       "статус_кредита               0\n",
       "дата_статуса                 0\n",
       "dtype: int64"
      ]
     },
     "execution_count": 778,
     "metadata": {},
     "output_type": "execute_result"
    }
   ],
   "source": [
    "# значений Null отсутствуют\n",
    "df.isnull().sum()"
   ]
  },
  {
   "cell_type": "markdown",
   "id": "d26820c0",
   "metadata": {},
   "source": [
    "---"
   ]
  },
  {
   "cell_type": "markdown",
   "id": "559acae8",
   "metadata": {},
   "source": [
    "## Анализ кредитной истории"
   ]
  },
  {
   "cell_type": "code",
   "execution_count": 779,
   "id": "05cb9781",
   "metadata": {},
   "outputs": [
    {
     "data": {
      "text/html": [
       "<div>\n",
       "<style scoped>\n",
       "    .dataframe tbody tr th:only-of-type {\n",
       "        vertical-align: middle;\n",
       "    }\n",
       "\n",
       "    .dataframe tbody tr th {\n",
       "        vertical-align: top;\n",
       "    }\n",
       "\n",
       "    .dataframe thead th {\n",
       "        text-align: right;\n",
       "    }\n",
       "</style>\n",
       "<table border=\"1\" class=\"dataframe\">\n",
       "  <thead>\n",
       "    <tr style=\"text-align: right;\">\n",
       "      <th></th>\n",
       "      <th>тип_кредитной_организации</th>\n",
       "      <th>название_организации</th>\n",
       "      <th>дата_выдачи_кредита</th>\n",
       "      <th>сумма_выдачи</th>\n",
       "      <th>сумма_погашенного</th>\n",
       "      <th>сумма_задолженности</th>\n",
       "      <th>статус_кредита</th>\n",
       "      <th>дата_статуса</th>\n",
       "    </tr>\n",
       "  </thead>\n",
       "  <tbody>\n",
       "    <tr>\n",
       "      <th>0</th>\n",
       "      <td>микрокредит</td>\n",
       "      <td>союз 5</td>\n",
       "      <td>2021-06-15</td>\n",
       "      <td>12440</td>\n",
       "      <td>27296</td>\n",
       "      <td>0</td>\n",
       "      <td>счет закрыт</td>\n",
       "      <td>2022-03-10</td>\n",
       "    </tr>\n",
       "    <tr>\n",
       "      <th>1</th>\n",
       "      <td>микрокредит</td>\n",
       "      <td>микроклад</td>\n",
       "      <td>2021-06-01</td>\n",
       "      <td>4000</td>\n",
       "      <td>0</td>\n",
       "      <td>10000</td>\n",
       "      <td>просрочен</td>\n",
       "      <td>2022-10-02</td>\n",
       "    </tr>\n",
       "    <tr>\n",
       "      <th>2</th>\n",
       "      <td>потребительский кредит</td>\n",
       "      <td>честное слово</td>\n",
       "      <td>2021-05-22</td>\n",
       "      <td>35000</td>\n",
       "      <td>5715</td>\n",
       "      <td>82001</td>\n",
       "      <td>просрочен</td>\n",
       "      <td>2022-05-18</td>\n",
       "    </tr>\n",
       "  </tbody>\n",
       "</table>\n",
       "</div>"
      ],
      "text/plain": [
       "  тип_кредитной_организации название_организации дата_выдачи_кредита  \\\n",
       "0               микрокредит               союз 5          2021-06-15   \n",
       "1               микрокредит            микроклад          2021-06-01   \n",
       "2    потребительский кредит        честное слово          2021-05-22   \n",
       "\n",
       "   сумма_выдачи  сумма_погашенного  сумма_задолженности статус_кредита  \\\n",
       "0         12440              27296                    0    счет закрыт   \n",
       "1          4000                  0                10000      просрочен   \n",
       "2         35000               5715                82001      просрочен   \n",
       "\n",
       "  дата_статуса  \n",
       "0   2022-03-10  \n",
       "1   2022-10-02  \n",
       "2   2022-05-18  "
      ]
     },
     "execution_count": 779,
     "metadata": {},
     "output_type": "execute_result"
    }
   ],
   "source": [
    "df.head(3)"
   ]
  },
  {
   "cell_type": "markdown",
   "id": "e01ccc9c",
   "metadata": {},
   "source": [
    "- **всего 226 кредитных договоров**"
   ]
  },
  {
   "cell_type": "code",
   "execution_count": 780,
   "id": "3132d56c",
   "metadata": {},
   "outputs": [
    {
     "data": {
      "text/plain": [
       "226"
      ]
     },
     "execution_count": 780,
     "metadata": {},
     "output_type": "execute_result"
    }
   ],
   "source": [
    "len(df)"
   ]
  },
  {
   "cell_type": "markdown",
   "id": "090bd70d",
   "metadata": {},
   "source": [
    "- **220 микрокредитов**\n",
    "- **4 потребительских кредита**\n",
    "- **2 кредитные карты**"
   ]
  },
  {
   "cell_type": "code",
   "execution_count": 781,
   "id": "bae11516",
   "metadata": {},
   "outputs": [
    {
     "data": {
      "text/plain": [
       "тип_кредитной_организации\n",
       "кредитная карта             2\n",
       "микрокредит               220\n",
       "потребительский кредит      4\n",
       "Name: сумма_выдачи, dtype: int64"
      ]
     },
     "execution_count": 781,
     "metadata": {},
     "output_type": "execute_result"
    }
   ],
   "source": [
    "df.groupby('тип_кредитной_организации')['сумма_выдачи'].count()"
   ]
  },
  {
   "cell_type": "markdown",
   "id": "93148ec4",
   "metadata": {},
   "source": [
    "- **общая сумма выданных средств 1.704.636 тысяч рублей**\n",
    "- **общая сумма выплаченых средств 2.105.605 тысяч рублей**\n",
    "- **общая сумма задолженности 101.140 тысяч рублей**"
   ]
  },
  {
   "cell_type": "code",
   "execution_count": 782,
   "id": "5e8f93f4",
   "metadata": {},
   "outputs": [
    {
     "data": {
      "text/plain": [
       "(1704636, 2105605, 101140)"
      ]
     },
     "execution_count": 782,
     "metadata": {},
     "output_type": "execute_result"
    }
   ],
   "source": [
    "df['сумма_выдачи'].sum(), df['сумма_погашенного'].sum(), df['сумма_задолженности'].sum()"
   ]
  },
  {
   "cell_type": "code",
   "execution_count": 783,
   "id": "d910dc0d",
   "metadata": {},
   "outputs": [
    {
     "data": {
      "text/html": [
       "<div>\n",
       "<style scoped>\n",
       "    .dataframe tbody tr th:only-of-type {\n",
       "        vertical-align: middle;\n",
       "    }\n",
       "\n",
       "    .dataframe tbody tr th {\n",
       "        vertical-align: top;\n",
       "    }\n",
       "\n",
       "    .dataframe thead th {\n",
       "        text-align: right;\n",
       "    }\n",
       "</style>\n",
       "<table border=\"1\" class=\"dataframe\">\n",
       "  <thead>\n",
       "    <tr style=\"text-align: right;\">\n",
       "      <th></th>\n",
       "      <th>сумма_выдачи</th>\n",
       "      <th>сумма_погашенного</th>\n",
       "      <th>сумма_задолженности</th>\n",
       "    </tr>\n",
       "    <tr>\n",
       "      <th>статус_кредита</th>\n",
       "      <th></th>\n",
       "      <th></th>\n",
       "      <th></th>\n",
       "    </tr>\n",
       "  </thead>\n",
       "  <tbody>\n",
       "    <tr>\n",
       "      <th>счет закрыт</th>\n",
       "      <td>1658636</td>\n",
       "      <td>2099890</td>\n",
       "      <td>0</td>\n",
       "    </tr>\n",
       "    <tr>\n",
       "      <th>просрочен</th>\n",
       "      <td>39000</td>\n",
       "      <td>5715</td>\n",
       "      <td>92001</td>\n",
       "    </tr>\n",
       "    <tr>\n",
       "      <th>передача данных прекращена</th>\n",
       "      <td>7000</td>\n",
       "      <td>0</td>\n",
       "      <td>9139</td>\n",
       "    </tr>\n",
       "  </tbody>\n",
       "</table>\n",
       "</div>"
      ],
      "text/plain": [
       "                            сумма_выдачи  сумма_погашенного  \\\n",
       "статус_кредита                                                \n",
       "счет закрыт                      1658636            2099890   \n",
       "просрочен                          39000               5715   \n",
       "передача данных прекращена          7000                  0   \n",
       "\n",
       "                            сумма_задолженности  \n",
       "статус_кредита                                   \n",
       "счет закрыт                                   0  \n",
       "просрочен                                 92001  \n",
       "передача данных прекращена                 9139  "
      ]
     },
     "execution_count": 783,
     "metadata": {},
     "output_type": "execute_result"
    }
   ],
   "source": [
    "table = df.groupby('статус_кредита', sort=False).sum(numeric_only=True)\n",
    "table.sort_values('сумма_выдачи',ascending=False)"
   ]
  },
  {
   "cell_type": "markdown",
   "id": "6a603a8c",
   "metadata": {},
   "source": [
    "**количество договоров по статусам :**\n",
    "   - **передача данных прекращена 1**\n",
    "   - **просрочен 2** \n",
    "   - **счет закрыт 223**\n",
    "    \n",
    "**Отношение 3 к 223 или 0,013% задолженности к погашенным кредитам**"
   ]
  },
  {
   "cell_type": "code",
   "execution_count": 784,
   "id": "3303a5ab",
   "metadata": {},
   "outputs": [
    {
     "data": {
      "text/plain": [
       "статус_кредита\n",
       "передача данных прекращена      1\n",
       "просрочен                       2\n",
       "счет закрыт                   223\n",
       "Name: сумма_выдачи, dtype: int64"
      ]
     },
     "execution_count": 784,
     "metadata": {},
     "output_type": "execute_result"
    }
   ],
   "source": [
    " df.groupby('статус_кредита')['сумма_выдачи'].count()"
   ]
  },
  {
   "cell_type": "code",
   "execution_count": 785,
   "id": "f968237b",
   "metadata": {},
   "outputs": [
    {
     "data": {
      "text/html": [
       "<div>\n",
       "<style scoped>\n",
       "    .dataframe tbody tr th:only-of-type {\n",
       "        vertical-align: middle;\n",
       "    }\n",
       "\n",
       "    .dataframe tbody tr th {\n",
       "        vertical-align: top;\n",
       "    }\n",
       "\n",
       "    .dataframe thead th {\n",
       "        text-align: right;\n",
       "    }\n",
       "</style>\n",
       "<table border=\"1\" class=\"dataframe\">\n",
       "  <thead>\n",
       "    <tr style=\"text-align: right;\">\n",
       "      <th></th>\n",
       "      <th>тип_кредитной_организации</th>\n",
       "      <th>название_организации</th>\n",
       "      <th>дата_выдачи_кредита</th>\n",
       "      <th>сумма_выдачи</th>\n",
       "      <th>сумма_погашенного</th>\n",
       "      <th>сумма_задолженности</th>\n",
       "      <th>статус_кредита</th>\n",
       "      <th>дата_статуса</th>\n",
       "    </tr>\n",
       "  </thead>\n",
       "  <tbody>\n",
       "    <tr>\n",
       "      <th>1</th>\n",
       "      <td>микрокредит</td>\n",
       "      <td>микроклад</td>\n",
       "      <td>2021-06-01</td>\n",
       "      <td>4000</td>\n",
       "      <td>0</td>\n",
       "      <td>10000</td>\n",
       "      <td>просрочен</td>\n",
       "      <td>2022-10-02</td>\n",
       "    </tr>\n",
       "    <tr>\n",
       "      <th>2</th>\n",
       "      <td>потребительский кредит</td>\n",
       "      <td>честное слово</td>\n",
       "      <td>2021-05-22</td>\n",
       "      <td>35000</td>\n",
       "      <td>5715</td>\n",
       "      <td>82001</td>\n",
       "      <td>просрочен</td>\n",
       "      <td>2022-05-18</td>\n",
       "    </tr>\n",
       "  </tbody>\n",
       "</table>\n",
       "</div>"
      ],
      "text/plain": [
       "  тип_кредитной_организации название_организации дата_выдачи_кредита  \\\n",
       "1               микрокредит            микроклад          2021-06-01   \n",
       "2    потребительский кредит        честное слово          2021-05-22   \n",
       "\n",
       "   сумма_выдачи  сумма_погашенного  сумма_задолженности статус_кредита  \\\n",
       "1          4000                  0                10000      просрочен   \n",
       "2         35000               5715                82001      просрочен   \n",
       "\n",
       "  дата_статуса  \n",
       "1   2022-10-02  \n",
       "2   2022-05-18  "
      ]
     },
     "execution_count": 785,
     "metadata": {},
     "output_type": "execute_result"
    }
   ],
   "source": [
    "df[df['статус_кредита'] == 'просрочен']"
   ]
  },
  {
   "cell_type": "markdown",
   "id": "318fffc5",
   "metadata": {},
   "source": [
    "\n",
    "   - **минимальная выданная сумма 500 рублей**\n",
    "   - **максимальная выданная сумма 35000 тысяч рублей**\n",
    "   - **средняя выданная сумма 7610 тысяч рублей**\n",
    "   - **медиана 5000 тысяч рублей**\n",
    "    "
   ]
  },
  {
   "cell_type": "code",
   "execution_count": 786,
   "id": "d33d40f0",
   "metadata": {},
   "outputs": [
    {
     "data": {
      "text/html": [
       "<div>\n",
       "<style scoped>\n",
       "    .dataframe tbody tr th:only-of-type {\n",
       "        vertical-align: middle;\n",
       "    }\n",
       "\n",
       "    .dataframe tbody tr th {\n",
       "        vertical-align: top;\n",
       "    }\n",
       "\n",
       "    .dataframe thead th {\n",
       "        text-align: right;\n",
       "    }\n",
       "</style>\n",
       "<table border=\"1\" class=\"dataframe\">\n",
       "  <thead>\n",
       "    <tr style=\"text-align: right;\">\n",
       "      <th></th>\n",
       "      <th>тип_кредитной_организации</th>\n",
       "      <th>название_организации</th>\n",
       "      <th>дата_выдачи_кредита</th>\n",
       "      <th>сумма_выдачи</th>\n",
       "      <th>сумма_погашенного</th>\n",
       "      <th>сумма_задолженности</th>\n",
       "      <th>статус_кредита</th>\n",
       "      <th>дата_статуса</th>\n",
       "    </tr>\n",
       "  </thead>\n",
       "  <tbody>\n",
       "    <tr>\n",
       "      <th>61</th>\n",
       "      <td>кредитная карта</td>\n",
       "      <td>пойдём!</td>\n",
       "      <td>2021-02-05</td>\n",
       "      <td>0</td>\n",
       "      <td>78275</td>\n",
       "      <td>0</td>\n",
       "      <td>счет закрыт</td>\n",
       "      <td>2021-06-10</td>\n",
       "    </tr>\n",
       "    <tr>\n",
       "      <th>62</th>\n",
       "      <td>кредитная карта</td>\n",
       "      <td>пойдём!</td>\n",
       "      <td>2021-02-05</td>\n",
       "      <td>0</td>\n",
       "      <td>12499</td>\n",
       "      <td>0</td>\n",
       "      <td>счет закрыт</td>\n",
       "      <td>2021-07-09</td>\n",
       "    </tr>\n",
       "  </tbody>\n",
       "</table>\n",
       "</div>"
      ],
      "text/plain": [
       "   тип_кредитной_организации название_организации дата_выдачи_кредита  \\\n",
       "61           кредитная карта              пойдём!          2021-02-05   \n",
       "62           кредитная карта              пойдём!          2021-02-05   \n",
       "\n",
       "    сумма_выдачи  сумма_погашенного  сумма_задолженности статус_кредита  \\\n",
       "61             0              78275                    0    счет закрыт   \n",
       "62             0              12499                    0    счет закрыт   \n",
       "\n",
       "   дата_статуса  \n",
       "61   2021-06-10  \n",
       "62   2021-07-09  "
      ]
     },
     "execution_count": 786,
     "metadata": {},
     "output_type": "execute_result"
    }
   ],
   "source": [
    "df[df['сумма_выдачи'] == 0]"
   ]
  },
  {
   "cell_type": "code",
   "execution_count": 787,
   "id": "eaa23bef",
   "metadata": {},
   "outputs": [],
   "source": [
    "df1 = df[df['сумма_выдачи'] != 0]"
   ]
  },
  {
   "cell_type": "code",
   "execution_count": 788,
   "id": "52e1c828",
   "metadata": {},
   "outputs": [
    {
     "data": {
      "text/html": [
       "<div>\n",
       "<style scoped>\n",
       "    .dataframe tbody tr th:only-of-type {\n",
       "        vertical-align: middle;\n",
       "    }\n",
       "\n",
       "    .dataframe tbody tr th {\n",
       "        vertical-align: top;\n",
       "    }\n",
       "\n",
       "    .dataframe thead th {\n",
       "        text-align: right;\n",
       "    }\n",
       "</style>\n",
       "<table border=\"1\" class=\"dataframe\">\n",
       "  <thead>\n",
       "    <tr style=\"text-align: right;\">\n",
       "      <th></th>\n",
       "      <th>сумма_выдачи</th>\n",
       "    </tr>\n",
       "  </thead>\n",
       "  <tbody>\n",
       "    <tr>\n",
       "      <th>max</th>\n",
       "      <td>35000.0</td>\n",
       "    </tr>\n",
       "    <tr>\n",
       "      <th>min</th>\n",
       "      <td>500.0</td>\n",
       "    </tr>\n",
       "    <tr>\n",
       "      <th>median</th>\n",
       "      <td>5000.0</td>\n",
       "    </tr>\n",
       "    <tr>\n",
       "      <th>mean</th>\n",
       "      <td>7610.0</td>\n",
       "    </tr>\n",
       "  </tbody>\n",
       "</table>\n",
       "</div>"
      ],
      "text/plain": [
       "        сумма_выдачи\n",
       "max          35000.0\n",
       "min            500.0\n",
       "median        5000.0\n",
       "mean          7610.0"
      ]
     },
     "execution_count": 788,
     "metadata": {},
     "output_type": "execute_result"
    }
   ],
   "source": [
    "round(df1.agg({'сумма_выдачи': ['max','min','median','mean']}))"
   ]
  },
  {
   "cell_type": "code",
   "execution_count": 792,
   "id": "2b6c0eb5",
   "metadata": {},
   "outputs": [],
   "source": [
    "df.to_csv(r\"E:\\Users\\X\\Desktop\\parsing_nbki1\\transform\\credit_history_final.csv\", index=False) "
   ]
  },
  {
   "cell_type": "code",
   "execution_count": null,
   "id": "88b8562a",
   "metadata": {},
   "outputs": [],
   "source": []
  }
 ],
 "metadata": {
  "kernelspec": {
   "display_name": "Python 3 (ipykernel)",
   "language": "python",
   "name": "python3"
  },
  "language_info": {
   "codemirror_mode": {
    "name": "ipython",
    "version": 3
   },
   "file_extension": ".py",
   "mimetype": "text/x-python",
   "name": "python",
   "nbconvert_exporter": "python",
   "pygments_lexer": "ipython3",
   "version": "3.11.3"
  }
 },
 "nbformat": 4,
 "nbformat_minor": 5
}
